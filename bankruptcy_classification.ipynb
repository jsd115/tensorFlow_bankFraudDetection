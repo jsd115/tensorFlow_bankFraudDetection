{
 "cells": [
  {
   "cell_type": "markdown",
   "metadata": {},
   "source": [
    "# TensorFlow Bankruptcy Classification"
   ]
  },
  {
   "cell_type": "markdown",
   "metadata": {},
   "source": [
    "The project aims to combine the power of Sklearn's data processing and feature selection capabilities as well as the Tensorflow neural network frameworks to correctly identify bankruptcies based off of a number of features. \n",
    "\n",
    "Packages used:\n",
    "* Pandas: https://pandas.pydata.org/pandas-docs/stable/index.html\n",
    "* Numpy: https://numpy.org/doc/ \n",
    "* Tensorflow: https://www.tensorflow.org/\n",
    "* Sklearn: https://scikit-learn.org/stable/index.html \n",
    "\n",
    "The dataset can be found on kaggle. \n",
    "\n",
    "Link: https://www.kaggle.com/datasets/fedesoriano/company-bankruptcy-prediction"
   ]
  },
  {
   "cell_type": "markdown",
   "metadata": {},
   "source": [
    "## Import Libraries"
   ]
  },
  {
   "cell_type": "code",
   "execution_count": 1,
   "metadata": {},
   "outputs": [
    {
     "name": "stdout",
     "output_type": "stream",
     "text": [
      "WARNING:tensorflow:From c:\\Users\\sdelo\\AppData\\Local\\Programs\\Python\\Python311\\Lib\\site-packages\\keras\\src\\losses.py:2976: The name tf.losses.sparse_softmax_cross_entropy is deprecated. Please use tf.compat.v1.losses.sparse_softmax_cross_entropy instead.\n",
      "\n"
     ]
    }
   ],
   "source": [
    "import pandas as pd\n",
    "import numpy as np\n",
    "import tensorflow as tf\n",
    "from sklearn.preprocessing import StandardScaler\n",
    "from sklearn.model_selection import train_test_split\n",
    "from sklearn.ensemble import RandomForestClassifier\n",
    "from sklearn.linear_model import LogisticRegression\n",
    "from sklearn.feature_selection import RFE"
   ]
  },
  {
   "cell_type": "markdown",
   "metadata": {},
   "source": [
    "## Data preprocessing"
   ]
  },
  {
   "cell_type": "code",
   "execution_count": 2,
   "metadata": {},
   "outputs": [],
   "source": [
    "# Use pandas to read the csv file\n",
    "data = pd.read_csv('bankruptcy.csv')"
   ]
  },
  {
   "cell_type": "code",
   "execution_count": 3,
   "metadata": {},
   "outputs": [
    {
     "data": {
      "text/plain": [
       "(6819, 96)"
      ]
     },
     "execution_count": 3,
     "metadata": {},
     "output_type": "execute_result"
    }
   ],
   "source": [
    "# Print the shape of the data\n",
    "data.shape"
   ]
  },
  {
   "cell_type": "code",
   "execution_count": 4,
   "metadata": {},
   "outputs": [
    {
     "data": {
      "text/plain": [
       "Bankrupt?                                                   0\n",
       " ROA(C) before interest and depreciation before interest    0\n",
       " Total expense/Assets                                       0\n",
       " Total income/Total expense                                 0\n",
       " Retained Earnings to Total Assets                          0\n",
       "                                                           ..\n",
       " Total Asset Growth Rate                                    0\n",
       " Continuous Net Profit Growth Rate                          0\n",
       " Regular Net Profit Growth Rate                             0\n",
       " After-tax Net Profit Growth Rate                           0\n",
       " Equity to Liability                                        0\n",
       "Length: 96, dtype: int64"
      ]
     },
     "execution_count": 4,
     "metadata": {},
     "output_type": "execute_result"
    }
   ],
   "source": [
    "# Count the number of missing values in each column and sort them\n",
    "data.isnull().sum().sort_values(ascending=False)"
   ]
  },
  {
   "cell_type": "code",
   "execution_count": 5,
   "metadata": {},
   "outputs": [
    {
     "data": {
      "text/plain": [
       "0"
      ]
     },
     "execution_count": 5,
     "metadata": {},
     "output_type": "execute_result"
    }
   ],
   "source": [
    "# Since no null values are present, we can move on to the next step\n",
    "# Check the data types of each column\n",
    "# Add the columns that are not numeric to a list\n",
    "non_numeric_columns = []\n",
    "for column in data.columns:\n",
    "    if data[column].dtype != 'float64' and data[column].dtype != 'int64':\n",
    "        non_numeric_columns.append(column)\n",
    "\n",
    "# Print the non-numeric columns\n",
    "len(non_numeric_columns)"
   ]
  },
  {
   "cell_type": "code",
   "execution_count": 6,
   "metadata": {},
   "outputs": [
    {
     "data": {
      "text/plain": [
       "7.47644400602246e+17"
      ]
     },
     "execution_count": 6,
     "metadata": {},
     "output_type": "execute_result"
    }
   ],
   "source": [
    "# Since there are no non-numeric columns, we can move on to the next step\n",
    "# Create an array for the variance of each column\n",
    "var_values = []\n",
    "\n",
    "# Loop through each column and append the variance to the array\n",
    "for column in data.columns:\n",
    "    var_values.append(data[column].var())\n",
    "\n",
    "# Convert the array to a numpy array and calculate the mean\n",
    "var_values_numpy = np.array(var_values)\n",
    "var_values_mean = var_values_numpy.mean()\n",
    "var_values_mean"
   ]
  },
  {
   "cell_type": "code",
   "execution_count": 7,
   "metadata": {},
   "outputs": [],
   "source": [
    "# Create an empty list to store the columns that have a variance greater than the mean\n",
    "columns_to_scale = []\n",
    "\n",
    "# Loop through each column and check if the variance is greater than the mean\n",
    "for column in data.columns:\n",
    "    # Check if the variance is greater than the mean\n",
    "    if data[column].var() > var_values_mean:\n",
    "        # Append the column to the list\n",
    "        columns_to_scale.append(column)"
   ]
  },
  {
   "cell_type": "code",
   "execution_count": 8,
   "metadata": {},
   "outputs": [
    {
     "data": {
      "text/plain": [
       "[' Operating Expense Rate',\n",
       " ' Research and development expense rate',\n",
       " ' Total Asset Growth Rate',\n",
       " ' Inventory Turnover Rate (times)',\n",
       " ' Fixed Assets Turnover Frequency',\n",
       " ' Current Asset Turnover Rate',\n",
       " ' Quick Asset Turnover Rate',\n",
       " ' Cash Turnover Rate']"
      ]
     },
     "execution_count": 8,
     "metadata": {},
     "output_type": "execute_result"
    }
   ],
   "source": [
    "# Print the columns that have a variance greater than the mean\n",
    "columns_to_scale"
   ]
  },
  {
   "cell_type": "code",
   "execution_count": 9,
   "metadata": {},
   "outputs": [],
   "source": [
    "# Initialize the StandardScaler from the sklearn library\n",
    "scaler = StandardScaler()\n",
    "\n",
    "# Loop through each column and scale the data\n",
    "for column in columns_to_scale:\n",
    "    data[column] = scaler.fit_transform(data[[column]])"
   ]
  },
  {
   "cell_type": "code",
   "execution_count": 10,
   "metadata": {},
   "outputs": [
    {
     "data": {
      "text/html": [
       "<div>\n",
       "<style scoped>\n",
       "    .dataframe tbody tr th:only-of-type {\n",
       "        vertical-align: middle;\n",
       "    }\n",
       "\n",
       "    .dataframe tbody tr th {\n",
       "        vertical-align: top;\n",
       "    }\n",
       "\n",
       "    .dataframe thead th {\n",
       "        text-align: right;\n",
       "    }\n",
       "</style>\n",
       "<table border=\"1\" class=\"dataframe\">\n",
       "  <thead>\n",
       "    <tr style=\"text-align: right;\">\n",
       "      <th></th>\n",
       "      <th>Bankrupt?</th>\n",
       "      <th>ROA(C) before interest and depreciation before interest</th>\n",
       "      <th>ROA(A) before interest and % after tax</th>\n",
       "      <th>ROA(B) before interest and depreciation after tax</th>\n",
       "      <th>Operating Gross Margin</th>\n",
       "      <th>Realized Sales Gross Margin</th>\n",
       "      <th>Operating Profit Rate</th>\n",
       "      <th>Pre-tax net Interest Rate</th>\n",
       "      <th>After-tax net Interest Rate</th>\n",
       "      <th>Non-industry income and expenditure/revenue</th>\n",
       "      <th>...</th>\n",
       "      <th>Net Income to Total Assets</th>\n",
       "      <th>Total assets to GNP price</th>\n",
       "      <th>No-credit Interval</th>\n",
       "      <th>Gross Profit to Sales</th>\n",
       "      <th>Net Income to Stockholder's Equity</th>\n",
       "      <th>Liability to Equity</th>\n",
       "      <th>Degree of Financial Leverage (DFL)</th>\n",
       "      <th>Interest Coverage Ratio (Interest expense to EBIT)</th>\n",
       "      <th>Net Income Flag</th>\n",
       "      <th>Equity to Liability</th>\n",
       "    </tr>\n",
       "  </thead>\n",
       "  <tbody>\n",
       "    <tr>\n",
       "      <th>Bankrupt?</th>\n",
       "      <td>1.000000</td>\n",
       "      <td>-0.260807</td>\n",
       "      <td>-0.282941</td>\n",
       "      <td>-0.273051</td>\n",
       "      <td>-0.100043</td>\n",
       "      <td>-0.099445</td>\n",
       "      <td>-0.000230</td>\n",
       "      <td>-0.008517</td>\n",
       "      <td>-0.008857</td>\n",
       "      <td>-0.016593</td>\n",
       "      <td>...</td>\n",
       "      <td>-0.315457</td>\n",
       "      <td>0.035104</td>\n",
       "      <td>-0.005547</td>\n",
       "      <td>-0.100044</td>\n",
       "      <td>-0.180987</td>\n",
       "      <td>0.166812</td>\n",
       "      <td>0.010508</td>\n",
       "      <td>-0.005509</td>\n",
       "      <td>NaN</td>\n",
       "      <td>-0.083048</td>\n",
       "    </tr>\n",
       "    <tr>\n",
       "      <th>ROA(C) before interest and depreciation before interest</th>\n",
       "      <td>-0.260807</td>\n",
       "      <td>1.000000</td>\n",
       "      <td>0.940124</td>\n",
       "      <td>0.986849</td>\n",
       "      <td>0.334719</td>\n",
       "      <td>0.332755</td>\n",
       "      <td>0.035725</td>\n",
       "      <td>0.053419</td>\n",
       "      <td>0.049222</td>\n",
       "      <td>0.020501</td>\n",
       "      <td>...</td>\n",
       "      <td>0.887670</td>\n",
       "      <td>-0.071725</td>\n",
       "      <td>0.008135</td>\n",
       "      <td>0.334721</td>\n",
       "      <td>0.274287</td>\n",
       "      <td>-0.143629</td>\n",
       "      <td>-0.016575</td>\n",
       "      <td>0.010573</td>\n",
       "      <td>NaN</td>\n",
       "      <td>0.052416</td>\n",
       "    </tr>\n",
       "    <tr>\n",
       "      <th>ROA(A) before interest and % after tax</th>\n",
       "      <td>-0.282941</td>\n",
       "      <td>0.940124</td>\n",
       "      <td>1.000000</td>\n",
       "      <td>0.955741</td>\n",
       "      <td>0.326969</td>\n",
       "      <td>0.324956</td>\n",
       "      <td>0.032053</td>\n",
       "      <td>0.053518</td>\n",
       "      <td>0.049474</td>\n",
       "      <td>0.029649</td>\n",
       "      <td>...</td>\n",
       "      <td>0.961552</td>\n",
       "      <td>-0.098900</td>\n",
       "      <td>0.011463</td>\n",
       "      <td>0.326971</td>\n",
       "      <td>0.291744</td>\n",
       "      <td>-0.141039</td>\n",
       "      <td>-0.011515</td>\n",
       "      <td>0.013372</td>\n",
       "      <td>NaN</td>\n",
       "      <td>0.057887</td>\n",
       "    </tr>\n",
       "    <tr>\n",
       "      <th>ROA(B) before interest and depreciation after tax</th>\n",
       "      <td>-0.273051</td>\n",
       "      <td>0.986849</td>\n",
       "      <td>0.955741</td>\n",
       "      <td>1.000000</td>\n",
       "      <td>0.333749</td>\n",
       "      <td>0.331755</td>\n",
       "      <td>0.035212</td>\n",
       "      <td>0.053726</td>\n",
       "      <td>0.049952</td>\n",
       "      <td>0.022366</td>\n",
       "      <td>...</td>\n",
       "      <td>0.912040</td>\n",
       "      <td>-0.089088</td>\n",
       "      <td>0.007523</td>\n",
       "      <td>0.333750</td>\n",
       "      <td>0.280617</td>\n",
       "      <td>-0.142838</td>\n",
       "      <td>-0.014663</td>\n",
       "      <td>0.011473</td>\n",
       "      <td>NaN</td>\n",
       "      <td>0.056430</td>\n",
       "    </tr>\n",
       "    <tr>\n",
       "      <th>Operating Gross Margin</th>\n",
       "      <td>-0.100043</td>\n",
       "      <td>0.334719</td>\n",
       "      <td>0.326969</td>\n",
       "      <td>0.333749</td>\n",
       "      <td>1.000000</td>\n",
       "      <td>0.999518</td>\n",
       "      <td>0.005745</td>\n",
       "      <td>0.032493</td>\n",
       "      <td>0.027175</td>\n",
       "      <td>0.051438</td>\n",
       "      <td>...</td>\n",
       "      <td>0.300143</td>\n",
       "      <td>0.022672</td>\n",
       "      <td>0.004205</td>\n",
       "      <td>1.000000</td>\n",
       "      <td>0.075304</td>\n",
       "      <td>-0.085434</td>\n",
       "      <td>-0.011806</td>\n",
       "      <td>-0.001167</td>\n",
       "      <td>NaN</td>\n",
       "      <td>0.120029</td>\n",
       "    </tr>\n",
       "    <tr>\n",
       "      <th>...</th>\n",
       "      <td>...</td>\n",
       "      <td>...</td>\n",
       "      <td>...</td>\n",
       "      <td>...</td>\n",
       "      <td>...</td>\n",
       "      <td>...</td>\n",
       "      <td>...</td>\n",
       "      <td>...</td>\n",
       "      <td>...</td>\n",
       "      <td>...</td>\n",
       "      <td>...</td>\n",
       "      <td>...</td>\n",
       "      <td>...</td>\n",
       "      <td>...</td>\n",
       "      <td>...</td>\n",
       "      <td>...</td>\n",
       "      <td>...</td>\n",
       "      <td>...</td>\n",
       "      <td>...</td>\n",
       "      <td>...</td>\n",
       "      <td>...</td>\n",
       "    </tr>\n",
       "    <tr>\n",
       "      <th>Liability to Equity</th>\n",
       "      <td>0.166812</td>\n",
       "      <td>-0.143629</td>\n",
       "      <td>-0.141039</td>\n",
       "      <td>-0.142838</td>\n",
       "      <td>-0.085434</td>\n",
       "      <td>-0.085407</td>\n",
       "      <td>0.001541</td>\n",
       "      <td>-0.004043</td>\n",
       "      <td>-0.004390</td>\n",
       "      <td>-0.011899</td>\n",
       "      <td>...</td>\n",
       "      <td>-0.159697</td>\n",
       "      <td>0.021982</td>\n",
       "      <td>-0.003724</td>\n",
       "      <td>-0.085434</td>\n",
       "      <td>-0.791836</td>\n",
       "      <td>1.000000</td>\n",
       "      <td>0.002119</td>\n",
       "      <td>0.001487</td>\n",
       "      <td>NaN</td>\n",
       "      <td>-0.159654</td>\n",
       "    </tr>\n",
       "    <tr>\n",
       "      <th>Degree of Financial Leverage (DFL)</th>\n",
       "      <td>0.010508</td>\n",
       "      <td>-0.016575</td>\n",
       "      <td>-0.011515</td>\n",
       "      <td>-0.014663</td>\n",
       "      <td>-0.011806</td>\n",
       "      <td>-0.011268</td>\n",
       "      <td>0.000935</td>\n",
       "      <td>0.000855</td>\n",
       "      <td>0.000927</td>\n",
       "      <td>-0.000556</td>\n",
       "      <td>...</td>\n",
       "      <td>-0.010463</td>\n",
       "      <td>-0.001881</td>\n",
       "      <td>-0.008812</td>\n",
       "      <td>-0.011806</td>\n",
       "      <td>-0.000093</td>\n",
       "      <td>0.002119</td>\n",
       "      <td>1.000000</td>\n",
       "      <td>0.016513</td>\n",
       "      <td>NaN</td>\n",
       "      <td>-0.016739</td>\n",
       "    </tr>\n",
       "    <tr>\n",
       "      <th>Interest Coverage Ratio (Interest expense to EBIT)</th>\n",
       "      <td>-0.005509</td>\n",
       "      <td>0.010573</td>\n",
       "      <td>0.013372</td>\n",
       "      <td>0.011473</td>\n",
       "      <td>-0.001167</td>\n",
       "      <td>-0.001158</td>\n",
       "      <td>0.000393</td>\n",
       "      <td>0.000984</td>\n",
       "      <td>0.000957</td>\n",
       "      <td>0.001024</td>\n",
       "      <td>...</td>\n",
       "      <td>0.012746</td>\n",
       "      <td>0.000239</td>\n",
       "      <td>0.001027</td>\n",
       "      <td>-0.001169</td>\n",
       "      <td>0.005147</td>\n",
       "      <td>0.001487</td>\n",
       "      <td>0.016513</td>\n",
       "      <td>1.000000</td>\n",
       "      <td>NaN</td>\n",
       "      <td>-0.008339</td>\n",
       "    </tr>\n",
       "    <tr>\n",
       "      <th>Net Income Flag</th>\n",
       "      <td>NaN</td>\n",
       "      <td>NaN</td>\n",
       "      <td>NaN</td>\n",
       "      <td>NaN</td>\n",
       "      <td>NaN</td>\n",
       "      <td>NaN</td>\n",
       "      <td>NaN</td>\n",
       "      <td>NaN</td>\n",
       "      <td>NaN</td>\n",
       "      <td>NaN</td>\n",
       "      <td>...</td>\n",
       "      <td>NaN</td>\n",
       "      <td>NaN</td>\n",
       "      <td>NaN</td>\n",
       "      <td>NaN</td>\n",
       "      <td>NaN</td>\n",
       "      <td>NaN</td>\n",
       "      <td>NaN</td>\n",
       "      <td>NaN</td>\n",
       "      <td>NaN</td>\n",
       "      <td>NaN</td>\n",
       "    </tr>\n",
       "    <tr>\n",
       "      <th>Equity to Liability</th>\n",
       "      <td>-0.083048</td>\n",
       "      <td>0.052416</td>\n",
       "      <td>0.057887</td>\n",
       "      <td>0.056430</td>\n",
       "      <td>0.120029</td>\n",
       "      <td>0.120196</td>\n",
       "      <td>-0.017071</td>\n",
       "      <td>-0.014559</td>\n",
       "      <td>-0.010900</td>\n",
       "      <td>0.012293</td>\n",
       "      <td>...</td>\n",
       "      <td>0.073916</td>\n",
       "      <td>0.014871</td>\n",
       "      <td>0.050609</td>\n",
       "      <td>0.120027</td>\n",
       "      <td>0.029622</td>\n",
       "      <td>-0.159654</td>\n",
       "      <td>-0.016739</td>\n",
       "      <td>-0.008339</td>\n",
       "      <td>NaN</td>\n",
       "      <td>1.000000</td>\n",
       "    </tr>\n",
       "  </tbody>\n",
       "</table>\n",
       "<p>96 rows × 96 columns</p>\n",
       "</div>"
      ],
      "text/plain": [
       "                                                    Bankrupt?  \\\n",
       "Bankrupt?                                            1.000000   \n",
       " ROA(C) before interest and depreciation before...  -0.260807   \n",
       " ROA(A) before interest and % after tax             -0.282941   \n",
       " ROA(B) before interest and depreciation after tax  -0.273051   \n",
       " Operating Gross Margin                             -0.100043   \n",
       "...                                                       ...   \n",
       " Liability to Equity                                 0.166812   \n",
       " Degree of Financial Leverage (DFL)                  0.010508   \n",
       " Interest Coverage Ratio (Interest expense to E...  -0.005509   \n",
       " Net Income Flag                                          NaN   \n",
       " Equity to Liability                                -0.083048   \n",
       "\n",
       "                                                     ROA(C) before interest and depreciation before interest  \\\n",
       "Bankrupt?                                                                                   -0.260807          \n",
       " ROA(C) before interest and depreciation before...                                           1.000000          \n",
       " ROA(A) before interest and % after tax                                                      0.940124          \n",
       " ROA(B) before interest and depreciation after tax                                           0.986849          \n",
       " Operating Gross Margin                                                                      0.334719          \n",
       "...                                                                                               ...          \n",
       " Liability to Equity                                                                        -0.143629          \n",
       " Degree of Financial Leverage (DFL)                                                         -0.016575          \n",
       " Interest Coverage Ratio (Interest expense to E...                                           0.010573          \n",
       " Net Income Flag                                                                                  NaN          \n",
       " Equity to Liability                                                                         0.052416          \n",
       "\n",
       "                                                     ROA(A) before interest and % after tax  \\\n",
       "Bankrupt?                                                                         -0.282941   \n",
       " ROA(C) before interest and depreciation before...                                 0.940124   \n",
       " ROA(A) before interest and % after tax                                            1.000000   \n",
       " ROA(B) before interest and depreciation after tax                                 0.955741   \n",
       " Operating Gross Margin                                                            0.326969   \n",
       "...                                                                                     ...   \n",
       " Liability to Equity                                                              -0.141039   \n",
       " Degree of Financial Leverage (DFL)                                               -0.011515   \n",
       " Interest Coverage Ratio (Interest expense to E...                                 0.013372   \n",
       " Net Income Flag                                                                        NaN   \n",
       " Equity to Liability                                                               0.057887   \n",
       "\n",
       "                                                     ROA(B) before interest and depreciation after tax  \\\n",
       "Bankrupt?                                                                                   -0.273051    \n",
       " ROA(C) before interest and depreciation before...                                           0.986849    \n",
       " ROA(A) before interest and % after tax                                                      0.955741    \n",
       " ROA(B) before interest and depreciation after tax                                           1.000000    \n",
       " Operating Gross Margin                                                                      0.333749    \n",
       "...                                                                                               ...    \n",
       " Liability to Equity                                                                        -0.142838    \n",
       " Degree of Financial Leverage (DFL)                                                         -0.014663    \n",
       " Interest Coverage Ratio (Interest expense to E...                                           0.011473    \n",
       " Net Income Flag                                                                                  NaN    \n",
       " Equity to Liability                                                                         0.056430    \n",
       "\n",
       "                                                     Operating Gross Margin  \\\n",
       "Bankrupt?                                                         -0.100043   \n",
       " ROA(C) before interest and depreciation before...                 0.334719   \n",
       " ROA(A) before interest and % after tax                            0.326969   \n",
       " ROA(B) before interest and depreciation after tax                 0.333749   \n",
       " Operating Gross Margin                                            1.000000   \n",
       "...                                                                     ...   \n",
       " Liability to Equity                                              -0.085434   \n",
       " Degree of Financial Leverage (DFL)                               -0.011806   \n",
       " Interest Coverage Ratio (Interest expense to E...                -0.001167   \n",
       " Net Income Flag                                                        NaN   \n",
       " Equity to Liability                                               0.120029   \n",
       "\n",
       "                                                     Realized Sales Gross Margin  \\\n",
       "Bankrupt?                                                              -0.099445   \n",
       " ROA(C) before interest and depreciation before...                      0.332755   \n",
       " ROA(A) before interest and % after tax                                 0.324956   \n",
       " ROA(B) before interest and depreciation after tax                      0.331755   \n",
       " Operating Gross Margin                                                 0.999518   \n",
       "...                                                                          ...   \n",
       " Liability to Equity                                                   -0.085407   \n",
       " Degree of Financial Leverage (DFL)                                    -0.011268   \n",
       " Interest Coverage Ratio (Interest expense to E...                     -0.001158   \n",
       " Net Income Flag                                                             NaN   \n",
       " Equity to Liability                                                    0.120196   \n",
       "\n",
       "                                                     Operating Profit Rate  \\\n",
       "Bankrupt?                                                        -0.000230   \n",
       " ROA(C) before interest and depreciation before...                0.035725   \n",
       " ROA(A) before interest and % after tax                           0.032053   \n",
       " ROA(B) before interest and depreciation after tax                0.035212   \n",
       " Operating Gross Margin                                           0.005745   \n",
       "...                                                                    ...   \n",
       " Liability to Equity                                              0.001541   \n",
       " Degree of Financial Leverage (DFL)                               0.000935   \n",
       " Interest Coverage Ratio (Interest expense to E...                0.000393   \n",
       " Net Income Flag                                                       NaN   \n",
       " Equity to Liability                                             -0.017071   \n",
       "\n",
       "                                                     Pre-tax net Interest Rate  \\\n",
       "Bankrupt?                                                            -0.008517   \n",
       " ROA(C) before interest and depreciation before...                    0.053419   \n",
       " ROA(A) before interest and % after tax                               0.053518   \n",
       " ROA(B) before interest and depreciation after tax                    0.053726   \n",
       " Operating Gross Margin                                               0.032493   \n",
       "...                                                                        ...   \n",
       " Liability to Equity                                                 -0.004043   \n",
       " Degree of Financial Leverage (DFL)                                   0.000855   \n",
       " Interest Coverage Ratio (Interest expense to E...                    0.000984   \n",
       " Net Income Flag                                                           NaN   \n",
       " Equity to Liability                                                 -0.014559   \n",
       "\n",
       "                                                     After-tax net Interest Rate  \\\n",
       "Bankrupt?                                                              -0.008857   \n",
       " ROA(C) before interest and depreciation before...                      0.049222   \n",
       " ROA(A) before interest and % after tax                                 0.049474   \n",
       " ROA(B) before interest and depreciation after tax                      0.049952   \n",
       " Operating Gross Margin                                                 0.027175   \n",
       "...                                                                          ...   \n",
       " Liability to Equity                                                   -0.004390   \n",
       " Degree of Financial Leverage (DFL)                                     0.000927   \n",
       " Interest Coverage Ratio (Interest expense to E...                      0.000957   \n",
       " Net Income Flag                                                             NaN   \n",
       " Equity to Liability                                                   -0.010900   \n",
       "\n",
       "                                                     Non-industry income and expenditure/revenue  \\\n",
       "Bankrupt?                                                                              -0.016593   \n",
       " ROA(C) before interest and depreciation before...                                      0.020501   \n",
       " ROA(A) before interest and % after tax                                                 0.029649   \n",
       " ROA(B) before interest and depreciation after tax                                      0.022366   \n",
       " Operating Gross Margin                                                                 0.051438   \n",
       "...                                                                                          ...   \n",
       " Liability to Equity                                                                   -0.011899   \n",
       " Degree of Financial Leverage (DFL)                                                    -0.000556   \n",
       " Interest Coverage Ratio (Interest expense to E...                                      0.001024   \n",
       " Net Income Flag                                                                             NaN   \n",
       " Equity to Liability                                                                    0.012293   \n",
       "\n",
       "                                                    ...  \\\n",
       "Bankrupt?                                           ...   \n",
       " ROA(C) before interest and depreciation before...  ...   \n",
       " ROA(A) before interest and % after tax             ...   \n",
       " ROA(B) before interest and depreciation after tax  ...   \n",
       " Operating Gross Margin                             ...   \n",
       "...                                                 ...   \n",
       " Liability to Equity                                ...   \n",
       " Degree of Financial Leverage (DFL)                 ...   \n",
       " Interest Coverage Ratio (Interest expense to E...  ...   \n",
       " Net Income Flag                                    ...   \n",
       " Equity to Liability                                ...   \n",
       "\n",
       "                                                     Net Income to Total Assets  \\\n",
       "Bankrupt?                                                             -0.315457   \n",
       " ROA(C) before interest and depreciation before...                     0.887670   \n",
       " ROA(A) before interest and % after tax                                0.961552   \n",
       " ROA(B) before interest and depreciation after tax                     0.912040   \n",
       " Operating Gross Margin                                                0.300143   \n",
       "...                                                                         ...   \n",
       " Liability to Equity                                                  -0.159697   \n",
       " Degree of Financial Leverage (DFL)                                   -0.010463   \n",
       " Interest Coverage Ratio (Interest expense to E...                     0.012746   \n",
       " Net Income Flag                                                            NaN   \n",
       " Equity to Liability                                                   0.073916   \n",
       "\n",
       "                                                     Total assets to GNP price  \\\n",
       "Bankrupt?                                                             0.035104   \n",
       " ROA(C) before interest and depreciation before...                   -0.071725   \n",
       " ROA(A) before interest and % after tax                              -0.098900   \n",
       " ROA(B) before interest and depreciation after tax                   -0.089088   \n",
       " Operating Gross Margin                                               0.022672   \n",
       "...                                                                        ...   \n",
       " Liability to Equity                                                  0.021982   \n",
       " Degree of Financial Leverage (DFL)                                  -0.001881   \n",
       " Interest Coverage Ratio (Interest expense to E...                    0.000239   \n",
       " Net Income Flag                                                           NaN   \n",
       " Equity to Liability                                                  0.014871   \n",
       "\n",
       "                                                     No-credit Interval  \\\n",
       "Bankrupt?                                                     -0.005547   \n",
       " ROA(C) before interest and depreciation before...             0.008135   \n",
       " ROA(A) before interest and % after tax                        0.011463   \n",
       " ROA(B) before interest and depreciation after tax             0.007523   \n",
       " Operating Gross Margin                                        0.004205   \n",
       "...                                                                 ...   \n",
       " Liability to Equity                                          -0.003724   \n",
       " Degree of Financial Leverage (DFL)                           -0.008812   \n",
       " Interest Coverage Ratio (Interest expense to E...             0.001027   \n",
       " Net Income Flag                                                    NaN   \n",
       " Equity to Liability                                           0.050609   \n",
       "\n",
       "                                                     Gross Profit to Sales  \\\n",
       "Bankrupt?                                                        -0.100044   \n",
       " ROA(C) before interest and depreciation before...                0.334721   \n",
       " ROA(A) before interest and % after tax                           0.326971   \n",
       " ROA(B) before interest and depreciation after tax                0.333750   \n",
       " Operating Gross Margin                                           1.000000   \n",
       "...                                                                    ...   \n",
       " Liability to Equity                                             -0.085434   \n",
       " Degree of Financial Leverage (DFL)                              -0.011806   \n",
       " Interest Coverage Ratio (Interest expense to E...               -0.001169   \n",
       " Net Income Flag                                                       NaN   \n",
       " Equity to Liability                                              0.120027   \n",
       "\n",
       "                                                     Net Income to Stockholder's Equity  \\\n",
       "Bankrupt?                                                                     -0.180987   \n",
       " ROA(C) before interest and depreciation before...                             0.274287   \n",
       " ROA(A) before interest and % after tax                                        0.291744   \n",
       " ROA(B) before interest and depreciation after tax                             0.280617   \n",
       " Operating Gross Margin                                                        0.075304   \n",
       "...                                                                                 ...   \n",
       " Liability to Equity                                                          -0.791836   \n",
       " Degree of Financial Leverage (DFL)                                           -0.000093   \n",
       " Interest Coverage Ratio (Interest expense to E...                             0.005147   \n",
       " Net Income Flag                                                                    NaN   \n",
       " Equity to Liability                                                           0.029622   \n",
       "\n",
       "                                                     Liability to Equity  \\\n",
       "Bankrupt?                                                       0.166812   \n",
       " ROA(C) before interest and depreciation before...             -0.143629   \n",
       " ROA(A) before interest and % after tax                        -0.141039   \n",
       " ROA(B) before interest and depreciation after tax             -0.142838   \n",
       " Operating Gross Margin                                        -0.085434   \n",
       "...                                                                  ...   \n",
       " Liability to Equity                                            1.000000   \n",
       " Degree of Financial Leverage (DFL)                             0.002119   \n",
       " Interest Coverage Ratio (Interest expense to E...              0.001487   \n",
       " Net Income Flag                                                     NaN   \n",
       " Equity to Liability                                           -0.159654   \n",
       "\n",
       "                                                     Degree of Financial Leverage (DFL)  \\\n",
       "Bankrupt?                                                                      0.010508   \n",
       " ROA(C) before interest and depreciation before...                            -0.016575   \n",
       " ROA(A) before interest and % after tax                                       -0.011515   \n",
       " ROA(B) before interest and depreciation after tax                            -0.014663   \n",
       " Operating Gross Margin                                                       -0.011806   \n",
       "...                                                                                 ...   \n",
       " Liability to Equity                                                           0.002119   \n",
       " Degree of Financial Leverage (DFL)                                            1.000000   \n",
       " Interest Coverage Ratio (Interest expense to E...                             0.016513   \n",
       " Net Income Flag                                                                    NaN   \n",
       " Equity to Liability                                                          -0.016739   \n",
       "\n",
       "                                                     Interest Coverage Ratio (Interest expense to EBIT)  \\\n",
       "Bankrupt?                                                                                   -0.005509     \n",
       " ROA(C) before interest and depreciation before...                                           0.010573     \n",
       " ROA(A) before interest and % after tax                                                      0.013372     \n",
       " ROA(B) before interest and depreciation after tax                                           0.011473     \n",
       " Operating Gross Margin                                                                     -0.001167     \n",
       "...                                                                                               ...     \n",
       " Liability to Equity                                                                         0.001487     \n",
       " Degree of Financial Leverage (DFL)                                                          0.016513     \n",
       " Interest Coverage Ratio (Interest expense to E...                                           1.000000     \n",
       " Net Income Flag                                                                                  NaN     \n",
       " Equity to Liability                                                                        -0.008339     \n",
       "\n",
       "                                                     Net Income Flag  \\\n",
       "Bankrupt?                                                        NaN   \n",
       " ROA(C) before interest and depreciation before...               NaN   \n",
       " ROA(A) before interest and % after tax                          NaN   \n",
       " ROA(B) before interest and depreciation after tax               NaN   \n",
       " Operating Gross Margin                                          NaN   \n",
       "...                                                              ...   \n",
       " Liability to Equity                                             NaN   \n",
       " Degree of Financial Leverage (DFL)                              NaN   \n",
       " Interest Coverage Ratio (Interest expense to E...               NaN   \n",
       " Net Income Flag                                                 NaN   \n",
       " Equity to Liability                                             NaN   \n",
       "\n",
       "                                                     Equity to Liability  \n",
       "Bankrupt?                                                      -0.083048  \n",
       " ROA(C) before interest and depreciation before...              0.052416  \n",
       " ROA(A) before interest and % after tax                         0.057887  \n",
       " ROA(B) before interest and depreciation after tax              0.056430  \n",
       " Operating Gross Margin                                         0.120029  \n",
       "...                                                                  ...  \n",
       " Liability to Equity                                           -0.159654  \n",
       " Degree of Financial Leverage (DFL)                            -0.016739  \n",
       " Interest Coverage Ratio (Interest expense to E...             -0.008339  \n",
       " Net Income Flag                                                     NaN  \n",
       " Equity to Liability                                            1.000000  \n",
       "\n",
       "[96 rows x 96 columns]"
      ]
     },
     "execution_count": 10,
     "metadata": {},
     "output_type": "execute_result"
    }
   ],
   "source": [
    "# Visualize the correlation matrix\n",
    "data.corr()"
   ]
  },
  {
   "cell_type": "code",
   "execution_count": 11,
   "metadata": {},
   "outputs": [],
   "source": [
    "# Drop null values\n",
    "data.dropna(inplace=True)"
   ]
  },
  {
   "cell_type": "markdown",
   "metadata": {},
   "source": [
    "## Split Training and Test Data"
   ]
  },
  {
   "cell_type": "code",
   "execution_count": 12,
   "metadata": {},
   "outputs": [],
   "source": [
    "# Split the data into X and y, predicting the \"Bankrupt?\" column\n",
    "X = data.drop(\"Bankrupt?\", axis=1)\n",
    "y = data[\"Bankrupt?\"]"
   ]
  },
  {
   "cell_type": "code",
   "execution_count": 13,
   "metadata": {},
   "outputs": [],
   "source": [
    "# Call the train_test_split function from the sklearn library\n",
    "# Set the test size to 0.2 and the random state to 42 for reproducibility\n",
    "X_train, X_test, y_train, y_test = train_test_split(X, y, test_size=0.2, random_state=42)"
   ]
  },
  {
   "cell_type": "markdown",
   "metadata": {},
   "source": [
    "## Feature Selection"
   ]
  },
  {
   "cell_type": "code",
   "execution_count": 14,
   "metadata": {},
   "outputs": [
    {
     "name": "stdout",
     "output_type": "stream",
     "text": [
      "Top features: Index([' Net Value Growth Rate', ' Persistent EPS in the Last Four Seasons',\n",
      "       ' Borrowing dependency', ' Degree of Financial Leverage (DFL)',\n",
      "       ' Net profit before tax/Paid-in capital',\n",
      "       ' Net Income to Stockholder's Equity', ' Working Capital/Equity',\n",
      "       ' Non-industry income and expenditure/revenue',\n",
      "       ' Interest Expense Ratio',\n",
      "       ' Interest Coverage Ratio (Interest expense to EBIT)', ' Debt ratio %',\n",
      "       ' Net Value Per Share (B)', ' Per Share Net profit before tax (Yuan ¥)',\n",
      "       ' Cash/Current Liability', ' Net Income to Total Assets',\n",
      "       ' Interest-bearing debt interest rate', ' Equity to Liability',\n",
      "       ' Quick Ratio', ' Net worth/Assets', ' Cash/Total Assets',\n",
      "       ' Net Value Per Share (C)',\n",
      "       ' ROA(C) before interest and depreciation before interest',\n",
      "       ' Total debt/Total net worth', ' Total Asset Return Growth Rate Ratio',\n",
      "       ' Continuous interest rate (after tax)',\n",
      "       ' Accounts Receivable Turnover',\n",
      "       ' ROA(A) before interest and % after tax', ' Net Value Per Share (A)',\n",
      "       ' Liability to Equity', ' After-tax net Interest Rate',\n",
      "       ' Allocation rate per person', ' Working Capital to Total Assets',\n",
      "       ' Current Liability to Equity', ' No-credit Interval',\n",
      "       ' Inventory/Working Capital', ' Average Collection Days',\n",
      "       ' Pre-tax net Interest Rate', ' Total income/Total expense',\n",
      "       ' Operating profit per person', ' Retained Earnings to Total Assets',\n",
      "       ' Current Liabilities/Equity', ' Quick Assets/Current Liability',\n",
      "       ' Cash Flow to Total Assets', ' Equity to Long-term Liability',\n",
      "       ' Operating Profit Growth Rate', ' Continuous Net Profit Growth Rate',\n",
      "       ' Operating profit/Paid-in capital', ' Total assets to GNP price',\n",
      "       ' Current Liability to Assets', ' Operating Profit Rate',\n",
      "       ' Total expense/Assets', ' Current Liabilities/Liability',\n",
      "       ' Regular Net Profit Growth Rate',\n",
      "       ' Operating Profit Per Share (Yuan ¥)',\n",
      "       ' Inventory and accounts receivable/Net value',\n",
      "       ' Working capitcal Turnover Rate',\n",
      "       ' Current Liability to Current Assets',\n",
      "       ' Long-term Liability to Current Assets',\n",
      "       ' Long-term fund suitability ratio (A)', ' Cash Flow to Sales',\n",
      "       ' Cash Flow to Equity', ' Fixed Assets Turnover Frequency',\n",
      "       ' ROA(B) before interest and depreciation after tax',\n",
      "       ' Revenue per person', ' Cash flow rate', ' Quick Assets/Total Assets',\n",
      "       ' Cash Reinvestment %', ' Inventory/Current Liability',\n",
      "       ' Cash Flow to Liability', ' Gross Profit to Sales',\n",
      "       ' Operating Gross Margin', ' Fixed Assets to Assets',\n",
      "       ' Cash Flow Per Share', ' Current Assets/Total Assets',\n",
      "       ' Contingent liabilities/Net worth', ' Cash Turnover Rate',\n",
      "       ' Operating Funds to Liability', ' Current Liability to Liability',\n",
      "       ' Realized Sales Gross Profit Growth Rate', ' Current Ratio',\n",
      "       ' Total Asset Growth Rate', ' Research and development expense rate',\n",
      "       ' Realized Sales Gross Margin', ' Revenue Per Share (Yuan ¥)',\n",
      "       ' After-tax Net Profit Growth Rate', ' CFO to Assets',\n",
      "       ' Net Worth Turnover Rate (times)', ' Total Asset Turnover',\n",
      "       ' Operating Expense Rate', ' Inventory Turnover Rate (times)',\n",
      "       ' Quick Asset Turnover Rate', ' Current Asset Turnover Rate',\n",
      "       ' Tax rate (A)', ' Net Income Flag', ' Liability-Assets Flag'],\n",
      "      dtype='object')\n"
     ]
    }
   ],
   "source": [
    "# Initialize the Random Forest Classifier model\n",
    "# Since Random Forest inherently performs feature selection, we can use it to get the feature importances\n",
    "model_rf = RandomForestClassifier()\n",
    "\n",
    "# Fit the model on the training data\n",
    "model_rf.fit(X_train, y_train)\n",
    "\n",
    "# Get the feature importances from the model\n",
    "feature_importances = model_rf.feature_importances_\n",
    "\n",
    "# Sort features by importance\n",
    "sorted_indices = np.argsort(feature_importances)[::-1]\n",
    "\n",
    "# Get the most import features\n",
    "ranked_columns = X_train.columns[sorted_indices]\n",
    "print(f\"Top features: {ranked_columns}\")"
   ]
  },
  {
   "cell_type": "code",
   "execution_count": 15,
   "metadata": {},
   "outputs": [
    {
     "data": {
      "text/plain": [
       "Index([' Net Value Growth Rate', ' Persistent EPS in the Last Four Seasons',\n",
       "       ' Borrowing dependency', ' Degree of Financial Leverage (DFL)',\n",
       "       ' Net profit before tax/Paid-in capital',\n",
       "       ' Net Income to Stockholder's Equity', ' Working Capital/Equity',\n",
       "       ' Non-industry income and expenditure/revenue',\n",
       "       ' Interest Expense Ratio',\n",
       "       ' Interest Coverage Ratio (Interest expense to EBIT)'],\n",
       "      dtype='object')"
      ]
     },
     "execution_count": 15,
     "metadata": {},
     "output_type": "execute_result"
    }
   ],
   "source": [
    "# Isolate the top 10 features\n",
    "ranked_columns[0:10]"
   ]
  },
  {
   "cell_type": "code",
   "execution_count": 16,
   "metadata": {},
   "outputs": [
    {
     "name": "stdout",
     "output_type": "stream",
     "text": [
      "Ranking of features: [34 30 32 25 27  6 14 13 47 15 77 76 35  1 61 54 56 55 52 45  1 63 57 74\n",
      "  9 20 19 53 69  1 50 40  1 82 23  3 65  8 78 41 80 64 58 38 59  1  1 79\n",
      " 75 68  1 39  1 11 37 33 60  1 81 66 42 49  2 16 18 43  1  7 85 72 83 84\n",
      " 29 73 21 51 17 44 62 22 36 28 46 70 86 12  4 24 26 10 48 71 31  5 67]\n",
      "Selected features: Index([' Interest-bearing debt interest rate', ' Revenue Per Share (Yuan ¥)',\n",
      "       ' Net Value Growth Rate', ' Current Ratio',\n",
      "       ' Accounts Receivable Turnover', ' Average Collection Days',\n",
      "       ' Revenue per person', ' Allocation rate per person',\n",
      "       ' Quick Assets/Current Liability',\n",
      "       ' Long-term Liability to Current Assets'],\n",
      "      dtype='object')\n"
     ]
    }
   ],
   "source": [
    "# Initialize the Logistic Regression model\n",
    "model = LogisticRegression()\n",
    "\n",
    "# Initialize the Recursive Feature Elimination (RFE) \n",
    "# Pass the model and the number of features to select (10)\n",
    "rfe = RFE(model, n_features_to_select=10)\n",
    "\n",
    "# Fit the RFE on the training data\n",
    "rfe.fit(X_train, y_train)\n",
    "\n",
    "# Get the ranking of features and the selected features\n",
    "ranking = rfe.ranking_\n",
    "selected_features = rfe.support_\n",
    "\n",
    "# Assign selected_features to an array\n",
    "selected_features = X_train.columns[selected_features]\n",
    "print(f\"Ranking of features: {ranking}\")\n",
    "print(f\"Selected features: {selected_features}\")"
   ]
  },
  {
   "cell_type": "code",
   "execution_count": 17,
   "metadata": {},
   "outputs": [
    {
     "data": {
      "text/plain": [
       "[' Interest-bearing debt interest rate',\n",
       " ' Revenue Per Share (Yuan ¥)',\n",
       " ' Net Value Growth Rate',\n",
       " ' Current Ratio',\n",
       " ' Accounts Receivable Turnover',\n",
       " ' Average Collection Days',\n",
       " ' Revenue per person',\n",
       " ' Allocation rate per person',\n",
       " ' Quick Assets/Current Liability',\n",
       " ' Long-term Liability to Current Assets']"
      ]
     },
     "execution_count": 17,
     "metadata": {},
     "output_type": "execute_result"
    }
   ],
   "source": [
    "# Check if the top 10 features from the Random Forest model are the same as the selected features from the RFE model\n",
    "\n",
    "# Create an empty list to store the features that are equal\n",
    "any_equal = []\n",
    "\n",
    "# Loop through the selected features and check if they are in the top 10 features from the Random Forest model\n",
    "for feature in selected_features: \n",
    "    for column in ranked_columns:\n",
    "        if feature == column:\n",
    "            any_equal.append(feature)\n",
    "\n",
    "# Print the features that are equal\n",
    "any_equal"
   ]
  },
  {
   "cell_type": "code",
   "execution_count": 18,
   "metadata": {},
   "outputs": [],
   "source": [
    "# Redeclare X_train and X_test with the selected features\n",
    "X_train = X_train[any_equal]\n",
    "X_test = X_test[any_equal]"
   ]
  },
  {
   "cell_type": "code",
   "execution_count": 19,
   "metadata": {},
   "outputs": [],
   "source": [
    "# Convert the data to float32 for TensorFlow model\n",
    "X_train = X_train.astype(np.float32)\n",
    "X_test = X_test.astype(np.float32)"
   ]
  },
  {
   "cell_type": "code",
   "execution_count": 20,
   "metadata": {},
   "outputs": [
    {
     "data": {
      "text/plain": [
       "(5455, 10)"
      ]
     },
     "execution_count": 20,
     "metadata": {},
     "output_type": "execute_result"
    }
   ],
   "source": [
    "# Print the shape of the training data\n",
    "X_train.shape"
   ]
  },
  {
   "cell_type": "code",
   "execution_count": 21,
   "metadata": {},
   "outputs": [
    {
     "data": {
      "text/plain": [
       "(1364, 10)"
      ]
     },
     "execution_count": 21,
     "metadata": {},
     "output_type": "execute_result"
    }
   ],
   "source": [
    "# Print the shape of the testing data\n",
    "X_test.shape"
   ]
  },
  {
   "cell_type": "markdown",
   "metadata": {},
   "source": [
    "## The TensorFlow Model"
   ]
  },
  {
   "cell_type": "code",
   "execution_count": 22,
   "metadata": {},
   "outputs": [],
   "source": [
    "# Define the SimpleModel class\n",
    "class SimpleModel(tf.Module):\n",
    "    def __init__(self):\n",
    "        # Define weights and biases\n",
    "        # Adjusted input dimension to 10\n",
    "        # This is because we have selected 10 features\n",
    "        # This uses the tf.Variable method to create the weights and biases\n",
    "        # This function initializes the weights and biases with random values\n",
    "        self.W_hidden = tf.Variable(tf.random.normal([10, 10], dtype=tf.float32))  \n",
    "        self.b_hidden = tf.Variable(tf.random.normal([10], dtype=tf.float32))\n",
    "        self.W_output = tf.Variable(tf.random.normal([10, 1], dtype=tf.float32))\n",
    "        self.b_output = tf.Variable(tf.random.normal([1], dtype=tf.float32))\n",
    "\n",
    "    def __call__(self, X):\n",
    "        # Define the model's forward pass\n",
    "        # Define the hidden layer with ReLU activation function\n",
    "        hidden_layer = tf.nn.relu(tf.matmul(X, self.W_hidden) + self.b_hidden)\n",
    "\n",
    "        # Define the output layer with sigmoid activation function\n",
    "        logits = tf.matmul(hidden_layer, self.W_output) + self.b_output\n",
    "        return tf.sigmoid(logits)\n",
    "\n",
    "# Initialize the model\n",
    "model = SimpleModel()\n"
   ]
  },
  {
   "cell_type": "code",
   "execution_count": 23,
   "metadata": {},
   "outputs": [],
   "source": [
    "# Define the loss function with the BinaryCrossentropy method\n",
    "# This method calculates the loss between the predicted values and the actual values\n",
    "loss_fn = tf.losses.BinaryCrossentropy(from_logits=True)\n",
    "\n",
    "# Define the optimizer with the Adam optimizer\n",
    "# Set the learning rate to 0.001\n",
    "# This method optimizes the weights and biases of the model\n",
    "optimizer = tf.optimizers.Adam(learning_rate=0.001)"
   ]
  },
  {
   "cell_type": "code",
   "execution_count": 24,
   "metadata": {},
   "outputs": [
    {
     "name": "stdout",
     "output_type": "stream",
     "text": [
      "WARNING:tensorflow:From c:\\Users\\sdelo\\AppData\\Local\\Programs\\Python\\Python311\\Lib\\site-packages\\keras\\src\\backend.py:806: The name tf.get_default_graph is deprecated. Please use tf.compat.v1.get_default_graph instead.\n",
      "\n",
      "Epoch 1, Loss: 0.7665033340454102\n",
      "Epoch 2, Loss: 0.7330272197723389\n",
      "Epoch 3, Loss: 0.7233008146286011\n",
      "Epoch 4, Loss: 0.7191773653030396\n",
      "Epoch 5, Loss: 0.7170271277427673\n",
      "Epoch 6, Loss: 0.7148941159248352\n",
      "Epoch 7, Loss: 0.713725209236145\n",
      "Epoch 8, Loss: 0.7132235765457153\n",
      "Epoch 9, Loss: 0.7129747867584229\n",
      "Epoch 10, Loss: 0.712835431098938\n",
      "Test Accuracy: 0.9307292103767395\n"
     ]
    }
   ],
   "source": [
    "# Set the number of epochs and batch size\n",
    "num_epochs = 10\n",
    "batch_size = 32\n",
    "\n",
    "# Define the training step using the @tf.function decorator\n",
    "# This decorator compiles the function into a callable TensorFlow graph\n",
    "@tf.function\n",
    "def train_step(X, y):\n",
    "    # tf.GradientTape() records the operations for automatic differentiation\n",
    "    with tf.GradientTape() as tape:\n",
    "        predictions = model(X)\n",
    "        loss = loss_fn(y, predictions)\n",
    "    \n",
    "    # Calculate the gradients of the loss with respect to the model's weights and biases\n",
    "    gradients = tape.gradient(loss, model.trainable_variables)\n",
    "\n",
    "    # Update the weights and biases of the model using the optimizer\n",
    "    optimizer.apply_gradients(zip(gradients, model.trainable_variables))\n",
    "\n",
    "    # Return the loss\n",
    "    return loss\n",
    "\n",
    "# Train the model for the specified number of epochs\n",
    "for epoch in range(num_epochs):\n",
    "    # Get the number of batches based on the training set divided by batch size\n",
    "    num_batches = int(len(X_train) / batch_size)\n",
    "\n",
    "    # Loop through the batches\n",
    "    for i in range(num_batches):\n",
    "        # Get the batch data by slicing the training data\n",
    "        batch_X = X_train[i*batch_size:(i+1)*batch_size]\n",
    "        batch_y = y_train[i*batch_size:(i+1)*batch_size]\n",
    "\n",
    "        # Train the model on the batch data\n",
    "        train_loss = train_step(batch_X, batch_y)\n",
    "    # Print the loss at each epoch to monitor the training progress\n",
    "    print(f'Epoch {epoch+1}, Loss: {train_loss.numpy()}')\n",
    "\n",
    "# Evaluate the model\n",
    "predictions = model(X_test)\n",
    "\n",
    "# Calculate the accuracy of the model\n",
    "test_accuracy_simple_model = tf.reduce_mean(tf.cast(tf.equal(tf.round(predictions), y_test), tf.float32))\n",
    "\n",
    "# Print the test accuracy\n",
    "print(f'Test Accuracy: {test_accuracy_simple_model.numpy()}')\n"
   ]
  },
  {
   "cell_type": "markdown",
   "metadata": {},
   "source": [
    "## Save the trained model for production uses "
   ]
  },
  {
   "cell_type": "code",
   "execution_count": 25,
   "metadata": {},
   "outputs": [
    {
     "name": "stdout",
     "output_type": "stream",
     "text": [
      "INFO:tensorflow:Assets written to: simple_model\\assets\n"
     ]
    }
   ],
   "source": [
    "# Save the model\n",
    "# Call it simple_model\n",
    "model_path = \"simple_model\"\n",
    "\n",
    "# Save the model using the tf.saved_model.save method\n",
    "# Pass the model and the model path\n",
    "tf.saved_model.save(model, model_path)"
   ]
  },
  {
   "cell_type": "markdown",
   "metadata": {},
   "source": [
    "## A More Complex Model"
   ]
  },
  {
   "cell_type": "markdown",
   "metadata": {},
   "source": [
    "This section will implement a more complex neural network structure in order to guage the size of effect on accuracy when adding more hidden layers. "
   ]
  },
  {
   "cell_type": "code",
   "execution_count": 26,
   "metadata": {},
   "outputs": [],
   "source": [
    "# Define the SimpleModel class\n",
    "class MoreLayeredmodel(tf.Module):\n",
    "    def __init__(self):\n",
    "        # Define weights and biases\n",
    "        # Adjusted input dimension to 10\n",
    "        # This is because we have selected 10 features\n",
    "        # This uses the tf.Variable method to create the weights and biases\n",
    "        # This function initializes the weights and biases with random values\n",
    "        self.W_hidden_1 = tf.Variable(tf.random.normal([10, 10], dtype=tf.float32))  \n",
    "        self.b_hidden_1 = tf.Variable(tf.random.normal([10], dtype=tf.float32))\n",
    "\n",
    "        # New hidden layers are added to the model because we are using a more layered model\n",
    "        # Second hidden layer weights and biases\n",
    "        self.W_hidden_2 = tf.Variable(tf.random.normal([10, 10], dtype=tf.float32))  \n",
    "        self.b_hidden_2 = tf.Variable(tf.random.normal([10], dtype=tf.float32))\n",
    "\n",
    "        # Third hidden layer weights and biases\n",
    "        self.W_hidden_3 = tf.Variable(tf.random.normal([10, 10], dtype=tf.float32))  \n",
    "        self.b_hidden_3 = tf.Variable(tf.random.normal([10], dtype=tf.float32))\n",
    "\n",
    "        # Output layer weights and biases structure remain the same\n",
    "        self.W_output = tf.Variable(tf.random.normal([10, 1], dtype=tf.float32))\n",
    "        self.b_output = tf.Variable(tf.random.normal([1], dtype=tf.float32))\n",
    "\n",
    "    def __call__(self, X):\n",
    "        # Define the model's forward pass\n",
    "        # Define the hidden layer with ReLU activation function\n",
    "        hidden_layer_1 = tf.nn.relu(tf.matmul(X, self.W_hidden_1) + self.b_hidden_1)\n",
    "\n",
    "        # Second hidden layer with ReLU activation function\n",
    "        hidden_layer_2 = tf.nn.relu(tf.matmul(hidden_layer_1, self.W_hidden_2) + self.b_hidden_2)\n",
    "\n",
    "        # Third hidden layer with ReLU activation function\n",
    "        hidden_layer_3 = tf.nn.relu(tf.matmul(hidden_layer_2, self.W_hidden_3) + self.b_hidden_3)\n",
    "\n",
    "        # Define the output layer with sigmoid activation function\n",
    "        logits = tf.matmul(hidden_layer_3, self.W_output) + self.b_output\n",
    "        return tf.sigmoid(logits)\n",
    "\n",
    "# Initialize the model\n",
    "more_layered_model = MoreLayeredmodel()\n"
   ]
  },
  {
   "cell_type": "code",
   "execution_count": 27,
   "metadata": {},
   "outputs": [],
   "source": [
    "# Define the loss function with the BinaryCrossentropy method\n",
    "# This method calculates the loss between the predicted values and the actual values\n",
    "loss_fn = tf.losses.BinaryCrossentropy(from_logits=True)\n",
    "\n",
    "# Define the optimizer with the Adam optimizer\n",
    "# Set the learning rate to 0.001\n",
    "# This method optimizes the weights and biases of the model\n",
    "optimizer = tf.optimizers.Adam(learning_rate=0.001)"
   ]
  },
  {
   "cell_type": "code",
   "execution_count": 28,
   "metadata": {},
   "outputs": [
    {
     "name": "stdout",
     "output_type": "stream",
     "text": [
      "Epoch 1, Loss: 0.7202298045158386\n",
      "Epoch 2, Loss: 0.71514892578125\n",
      "Epoch 3, Loss: 0.7137715816497803\n",
      "Epoch 4, Loss: 0.7132506370544434\n",
      "Epoch 5, Loss: 0.6936156749725342\n",
      "Epoch 6, Loss: 0.6934698820114136\n",
      "Epoch 7, Loss: 0.693382740020752\n",
      "Epoch 8, Loss: 0.6933256387710571\n",
      "Epoch 9, Loss: 0.6932861804962158\n",
      "Epoch 10, Loss: 0.6932576894760132\n",
      "Test Accuracy: 0.9578617811203003\n"
     ]
    }
   ],
   "source": [
    "# Set the number of epochs and batch size\n",
    "num_epochs = 10\n",
    "batch_size = 32\n",
    "\n",
    "# Define the training step using the @tf.function decorator\n",
    "# This decorator compiles the function into a callable TensorFlow graph\n",
    "# This function is similar to the train_step function for the SimpleModel class with just changes to the model name\n",
    "@tf.function\n",
    "def train_step_more_layers(X, y):\n",
    "    # tf.GradientTape() records the operations for automatic differentiation\n",
    "    with tf.GradientTape() as tape:\n",
    "        predictions = more_layered_model(X)\n",
    "        loss = loss_fn(y, predictions)\n",
    "    \n",
    "    # Calculate the gradients of the loss with respect to the model's weights and biases\n",
    "    gradients = tape.gradient(loss, more_layered_model.trainable_variables)\n",
    "\n",
    "    # Update the weights and biases of the model using the optimizer\n",
    "    optimizer.apply_gradients(zip(gradients, more_layered_model.trainable_variables))\n",
    "\n",
    "    # Return the loss\n",
    "    return loss\n",
    "\n",
    "# Train the model for the specified number of epochs\n",
    "for epoch in range(num_epochs):\n",
    "    # Get the number of batches based on the training set divided by batch size\n",
    "    num_batches = int(len(X_train) / batch_size)\n",
    "\n",
    "    # Loop through the batches\n",
    "    for i in range(num_batches):\n",
    "        # Get the batch data by slicing the training data\n",
    "        batch_X = X_train[i*batch_size:(i+1)*batch_size]\n",
    "        batch_y = y_train[i*batch_size:(i+1)*batch_size]\n",
    "\n",
    "        # Train the model on the batch data\n",
    "        train_loss = train_step_more_layers(batch_X, batch_y)\n",
    "    # Print the loss at each epoch to monitor the training progress\n",
    "    print(f'Epoch {epoch+1}, Loss: {train_loss.numpy()}')\n",
    "\n",
    "# Evaluate the model\n",
    "predictions = more_layered_model(X_test)\n",
    "\n",
    "# Calculate the accuracy of the model\n",
    "test_accuracy_layered_model = tf.reduce_mean(tf.cast(tf.equal(tf.round(predictions), y_test), tf.float32))\n",
    "\n",
    "# Print the test accuracy\n",
    "print(f'Test Accuracy: {test_accuracy_layered_model.numpy()}')\n"
   ]
  },
  {
   "cell_type": "code",
   "execution_count": 29,
   "metadata": {},
   "outputs": [
    {
     "data": {
      "text/plain": [
       "tensorflow.python.framework.ops.EagerTensor"
      ]
     },
     "execution_count": 29,
     "metadata": {},
     "output_type": "execute_result"
    }
   ],
   "source": [
    "# Verify that the output is a tensor\n",
    "type(test_accuracy_simple_model)"
   ]
  },
  {
   "cell_type": "code",
   "execution_count": 30,
   "metadata": {},
   "outputs": [],
   "source": [
    "# Convert the tensor to a numpy array to allow for further calculations\n",
    "test_accuracy_layered_model = test_accuracy_layered_model.numpy()\n",
    "test_accuracy_simple_model = test_accuracy_simple_model.numpy()"
   ]
  },
  {
   "cell_type": "code",
   "execution_count": 31,
   "metadata": {},
   "outputs": [
    {
     "name": "stdout",
     "output_type": "stream",
     "text": [
      "Difference between the two models: 0.02713257074356079\n"
     ]
    }
   ],
   "source": [
    "# Print the difference between the two models' test accuracies\n",
    "print(f'Difference between the two models: {test_accuracy_layered_model - test_accuracy_simple_model}')"
   ]
  },
  {
   "cell_type": "markdown",
   "metadata": {},
   "source": [
    "There is a slight difference in accuracy of about 5% on this run."
   ]
  },
  {
   "cell_type": "markdown",
   "metadata": {},
   "source": [
    "## Change some parameters and functions on the more layered model"
   ]
  },
  {
   "cell_type": "markdown",
   "metadata": {},
   "source": [
    "In this section we will change some of the parameters in the model as well as apply different activation functions to guage the effect that this has on the accuracy of the model."
   ]
  },
  {
   "cell_type": "code",
   "execution_count": 32,
   "metadata": {},
   "outputs": [],
   "source": [
    "# Define the SimpleModel class\n",
    "class differentHyperParamsModel(tf.Module):\n",
    "    def __init__(self):\n",
    "        # Define weights and biases\n",
    "        # Adjusted input dimension to 10\n",
    "        # This is because we have selected 10 features\n",
    "        # This uses the tf.Variable method to create the weights and biases\n",
    "        # This function initializes the weights and biases with random values\n",
    "        self.W_hidden_1 = tf.Variable(tf.random.normal([10, 10], dtype=tf.float32))  \n",
    "        self.b_hidden_1 = tf.Variable(tf.random.normal([10], dtype=tf.float32))\n",
    "\n",
    "        # New hidden layers are added to the model because we are using a more layered model\n",
    "        # Second hidden layer weights and biases\n",
    "        self.W_hidden_2 = tf.Variable(tf.random.normal([10, 10], dtype=tf.float32))  \n",
    "        self.b_hidden_2 = tf.Variable(tf.random.normal([10], dtype=tf.float32))\n",
    "\n",
    "        # Third hidden layer weights and biases\n",
    "        self.W_hidden_3 = tf.Variable(tf.random.normal([10, 10], dtype=tf.float32))  \n",
    "        self.b_hidden_3 = tf.Variable(tf.random.normal([10], dtype=tf.float32))\n",
    "\n",
    "        # Output layer weights and biases structure remain the same\n",
    "        # We have to change the output layer to have 2 units because we have 2 classes\n",
    "        self.W_output = tf.Variable(tf.random.normal([10, 2], dtype=tf.float32))\n",
    "        self.b_output = tf.Variable(tf.random.normal([2], dtype=tf.float32))\n",
    "\n",
    "    def __call__(self, X):\n",
    "        # Define the model's forward pass\n",
    "        # Define the hidden layer with ReLU activation function\n",
    "        hidden_layer_1 = tf.nn.leaky_relu(tf.matmul(X, self.W_hidden_1) + self.b_hidden_1)\n",
    "\n",
    "        # Second hidden layer with ReLU activation function\n",
    "        hidden_layer_2 = tf.nn.leaky_relu(tf.matmul(hidden_layer_1, self.W_hidden_2) + self.b_hidden_2)\n",
    "\n",
    "        # Third hidden layer with ReLU activation function\n",
    "        hidden_layer_3 = tf.nn.leaky_relu(tf.matmul(hidden_layer_2, self.W_hidden_3) + self.b_hidden_3)\n",
    "\n",
    "        # Define the output layer with sigmoid activation function\n",
    "        logits = tf.matmul(hidden_layer_3, self.W_output) + self.b_output\n",
    "        return tf.nn.softmax(logits)\n",
    "\n",
    "# Initialize the model\n",
    "diff_hyper_params_model = differentHyperParamsModel()\n"
   ]
  },
  {
   "cell_type": "markdown",
   "metadata": {},
   "source": [
    "## There are two major changes in model structure between the `more_layered_model` and the `diff_hyper_params_model`\n",
    "\n",
    "### First major change, Activation function of hidden layers:\n",
    "Link to useful guide to this portion: https://medium.com/@sreeku.ralla/activation-functions-relu-vs-leaky-relu-b8272dc0b1be \n",
    "\n",
    "** Some information was gathered from this link too\n",
    "\n",
    "The first major change between the two models is the change of the activation function of each of the neural network's hidden layers from the `tf.nn.relu()` function to the `tf.nn.leaky_relu()` function. This change has an interesting effect on the model. As the inputs are assigned weights by the model, they were orginially passed into the `tf.nn.relu()` activation function. \n",
    "\n",
    "Equation for Relu:\n",
    "\n",
    "$$ relu(z) = max(0,z) $$\n",
    "\n",
    "Equation for LeakyRelu:\n",
    "\n",
    "$$\n",
    "\\text{Leaky ReLU}(x) = \\begin{cases} \n",
    "x & \\text{if } x > 0, \\\\\n",
    "\\alpha x & \\text{if } x \\leq 0,\n",
    "\\end{cases}\n",
    "$$\n",
    "\n",
    "Advantages vs. Disadvantages:\n",
    "\n",
    "Relu: \n",
    "\n",
    "* Advantages: Relu inherently reduces risk of overfitting due to it only activating a portion of neurons at a time. This means that only some weighted inputs are activated at a time.\n",
    "* Disadvantages: Relu does also result in dying neurons inherently due to its inability to handle negative biases, as can be seen in the activation function. \n",
    "\n",
    "Leaky_Relu: \n",
    "\n",
    "* Advantages: Addresses the problems of dying neurons from the normal Relu function which can be seen in the activation function case of $text{if } x \\leq 0$\n",
    "* Disadvantages: The Leaky_Relu function requires much more care in addressing the parameters to ensure that not too many neurons die. \n",
    "\n",
    "### Second major change, Activation function of output layer:\n",
    "Link to useful guide to this portion: https://medium.com/arteos-ai/the-differences-between-sigmoid-and-softmax-activation-function-12adee8cf322\n",
    "\n",
    "** Some information was gathered from this link too\n",
    "\n",
    "The first major change between the two models is the change of the activation function of each of the neural network's hidden layers from the `tf.sigmoid()` function to the `tf.nn.softmax()` function.\n",
    "\n",
    "Equation for `tf.sigmoid()`:\n",
    "\n",
    "$$ \\text{Sigmoid}(x) = \\frac{1}{1 + e^{-x}} $$\n",
    "\n",
    "\n",
    "Equation for `tf.nn.softmax()`:\n",
    "\n",
    "$$ \\text{Softmax}(z_i) = \\frac{e^{z_i}}{\\sum_{j=1}^{K} e^{z_j}} $$\n",
    "\n",
    "Advantages vs. Disadvantages:\n",
    "\n",
    "`tf.sigmoid()`: \n",
    "\n",
    "* Advantages: Simple implementation and is not computationally expensive to run. Better for Binary classification. \n",
    "* Disadvantages: limited to a range of outputs between 0 and 1 or -1 and 1 (though that's not really a problem for this project). \n",
    "\n",
    "`tf.nn.softmax()`: \n",
    "\n",
    "* Advantages: Better for multiclass classification (not what is the goal of this project, but this is just an experiment). Softmax also ensure that the sum off all outputs equals one. \n",
    "* Disadvantages: More computationally expensive as well as the outputs of this function are not independent as they all must sum to 1 which is different than the signmoid function."
   ]
  },
  {
   "cell_type": "code",
   "execution_count": 33,
   "metadata": {},
   "outputs": [],
   "source": [
    "# Define the loss function with the Sparse Categorical Crossentropy method\n",
    "# This method calculates the loss between the predicted values and the actual values\n",
    "loss_fn = tf.keras.losses.SparseCategoricalCrossentropy(from_logits=False)\n",
    "\n",
    "# Define the optimizer with the Adam optimizer\n",
    "# Set the learning rate to 0.001\n",
    "# This method optimizes the weights and biases of the model\n",
    "optimizer = tf.optimizers.Adam(learning_rate=0.001)"
   ]
  },
  {
   "cell_type": "markdown",
   "metadata": {},
   "source": [
    "There is a change to the loss function as we are now using `tf.keras.losses.SparseCategoricalCrossentropy()`. This is due to it being more commonly used with the `tf.nn.softmax()` function. Since the output is still binary though, the original loss function can still be used if desired. "
   ]
  },
  {
   "cell_type": "code",
   "execution_count": 34,
   "metadata": {},
   "outputs": [
    {
     "name": "stdout",
     "output_type": "stream",
     "text": [
      "Epoch 1, Loss: 0.24875293672084808\n",
      "Epoch 2, Loss: 0.02291349321603775\n",
      "Epoch 3, Loss: 0.01264963485300541\n",
      "Epoch 4, Loss: 0.01661696657538414\n",
      "Epoch 5, Loss: 0.027601877227425575\n",
      "Epoch 6, Loss: 0.02683859132230282\n",
      "Epoch 7, Loss: 0.032052814960479736\n",
      "Epoch 8, Loss: 0.030959229916334152\n",
      "Epoch 9, Loss: 0.0340275764465332\n",
      "Epoch 10, Loss: 0.03438045084476471\n"
     ]
    }
   ],
   "source": [
    "# Set the number of epochs and batch size\n",
    "num_epochs = 10\n",
    "batch_size = 32\n",
    "\n",
    "# Define the training step using the @tf.function decorator\n",
    "# This decorator compiles the function into a callable TensorFlow graph\n",
    "# This function is similar to the train_step function for the SimpleModel class with just changes to the model name\n",
    "@tf.function\n",
    "def train_step_diff_params(X, y):\n",
    "    # tf.GradientTape() records the operations for automatic differentiation\n",
    "    with tf.GradientTape() as tape:\n",
    "        predictions = diff_hyper_params_model(X)\n",
    "        loss = loss_fn(y, predictions)\n",
    "    \n",
    "    # Calculate the gradients of the loss with respect to the model's weights and biases\n",
    "    gradients = tape.gradient(loss, diff_hyper_params_model.trainable_variables)\n",
    "\n",
    "    # Update the weights and biases of the model using the optimizer\n",
    "    optimizer.apply_gradients(zip(gradients, diff_hyper_params_model.trainable_variables))\n",
    "\n",
    "    # Return the loss\n",
    "    return loss\n",
    "\n",
    "# Train the model for the specified number of epochs\n",
    "for epoch in range(num_epochs):\n",
    "    # Get the number of batches based on the training set divided by batch size\n",
    "    num_batches = int(len(X_train) / batch_size)\n",
    "\n",
    "    # Loop through the batches\n",
    "    for i in range(num_batches):\n",
    "        # Get the batch data by slicing the training data\n",
    "        batch_X = X_train[i*batch_size:(i+1)*batch_size]\n",
    "        batch_y = y_train[i*batch_size:(i+1)*batch_size]\n",
    "\n",
    "        # Train the model on the batch data\n",
    "        train_loss = train_step_diff_params(batch_X, batch_y)\n",
    "    # Print the loss at each epoch to monitor the training progress\n",
    "    print(f'Epoch {epoch+1}, Loss: {train_loss.numpy()}')\n",
    "\n",
    "# Evaluate the model\n",
    "predictions = diff_hyper_params_model(X_test)\n",
    "\n",
    "predictions = np.argmax(predictions, axis=1)"
   ]
  },
  {
   "cell_type": "code",
   "execution_count": 35,
   "metadata": {},
   "outputs": [
    {
     "name": "stdout",
     "output_type": "stream",
     "text": [
      "Test Accuracy: 0.9626099467277527\n"
     ]
    }
   ],
   "source": [
    "# Calculate the accuracy of the model\n",
    "test_accuracy_diff_params = tf.reduce_mean(tf.cast(tf.equal(tf.round(predictions), y_test), tf.float32))\n",
    "\n",
    "# Print the test accuracy\n",
    "print(f'Test Accuracy: {test_accuracy_diff_params.numpy()}')"
   ]
  },
  {
   "cell_type": "code",
   "execution_count": 36,
   "metadata": {},
   "outputs": [],
   "source": [
    "# Convert the tensor to a numpy array to allow for further calculations\n",
    "test_accuracy_diff_params = test_accuracy_diff_params.numpy()"
   ]
  },
  {
   "cell_type": "code",
   "execution_count": 37,
   "metadata": {},
   "outputs": [
    {
     "name": "stdout",
     "output_type": "stream",
     "text": [
      "Test Accuracy for Simple Model: 0.9307292103767395. \n",
      "Test Accuracy for More Layered Model: 0.9578617811203003. \n",
      "Test Accuracy for Different Hyperparameters Model: 0.9626099467277527\n"
     ]
    }
   ],
   "source": [
    "# Print all the test accuracies\n",
    "print(f'Test Accuracy for Simple Model: {test_accuracy_simple_model}. \\nTest Accuracy for More Layered Model: {test_accuracy_layered_model}. \\nTest Accuracy for Different Hyperparameters Model: {test_accuracy_diff_params}')"
   ]
  },
  {
   "cell_type": "code",
   "execution_count": 38,
   "metadata": {},
   "outputs": [
    {
     "name": "stdout",
     "output_type": "stream",
     "text": [
      "INFO:tensorflow:Assets written to: best_model\\assets\n"
     ]
    },
    {
     "name": "stderr",
     "output_type": "stream",
     "text": [
      "INFO:tensorflow:Assets written to: best_model\\assets\n"
     ]
    }
   ],
   "source": [
    "# Save the best performing model\n",
    "# Call it best_model\n",
    "model_path = \"best_model\"\n",
    "tf.saved_model.save(diff_hyper_params_model, model_path)"
   ]
  }
 ],
 "metadata": {
  "kernelspec": {
   "display_name": "Python 3",
   "language": "python",
   "name": "python3"
  },
  "language_info": {
   "codemirror_mode": {
    "name": "ipython",
    "version": 3
   },
   "file_extension": ".py",
   "mimetype": "text/x-python",
   "name": "python",
   "nbconvert_exporter": "python",
   "pygments_lexer": "ipython3",
   "version": "3.11.1"
  }
 },
 "nbformat": 4,
 "nbformat_minor": 2
}
